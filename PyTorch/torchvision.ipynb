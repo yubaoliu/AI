{
 "cells": [
  {
   "cell_type": "code",
   "execution_count": null,
   "metadata": {},
   "outputs": [],
   "source": [
    "#Refer: https://blog.csdn.net/zhenaoxi1077/article/details/80955607\n",
    "\n",
    "from torchvision import models\n",
    "from torch import nn"
   ]
  },
  {
   "cell_type": "code",
   "execution_count": null,
   "metadata": {},
   "outputs": [],
   "source": [
    "#models\n",
    "resnet34 = models.resnet34(pretrained=True, num_classes=1000)\n",
    "resnet34.fc = nn.Linear(512, 10)"
   ]
  },
  {
   "cell_type": "code",
   "execution_count": null,
   "metadata": {},
   "outputs": [],
   "source": [
    "#dataset\n",
    "from torchvision import datasets\n",
    "from torchvision import transforms as T\n",
    "transform = T.Compose([\n",
    "    T.Resize(224),\n",
    "    T.CenterCrop(224),\n",
    "    T.ToTensor(),\n",
    "    T.Normalize(mean=[.5], std=[.5])\n",
    "])\n",
    "dataset = datasets.MNIST('data/', download=True, train=False, transform=transform)\n",
    "len(dataset)"
   ]
  },
  {
   "cell_type": "code",
   "execution_count": null,
   "metadata": {},
   "outputs": [],
   "source": [
    "# Transforms\n",
    "import torch as t\n",
    "from torchvision import transforms\n",
    "to_pil = transforms.ToPILImage()\n",
    "to_pil(t.randn(3, 64, 64))"
   ]
  },
  {
   "cell_type": "code",
   "execution_count": null,
   "metadata": {},
   "outputs": [],
   "source": [
    "# Make_grid and save_img\n",
    "from torchvision import datasets\n",
    "from torchvision import transforms as T\n",
    "transform = T.Compose([\n",
    "    T.Resize(224),\n",
    "    T.CenterCrop(224),\n",
    "    T.ToTensor(),\n",
    "    T.Normalize(mean=[.5], std=[.5])\n",
    "])\n",
    "\n",
    "dataset = datasets.MNIST('data/', download=True, train=False, transform=transform)\n",
    "print(len(dataset))\n",
    "\n",
    "from torch.utils.data import DataLoader\n",
    "dataloader = DataLoader(dataset, batch_size=16, shuffle=True)\n",
    "\n",
    "from torchvision.utils import make_grid, save_image\n",
    "dataiter=iter(dataloader)\n",
    "img = make_grid(next(dataiter)[0], 4)\n",
    "save_image(img, 'make_grid.png')"
   ]
  },
  {
   "cell_type": "code",
   "execution_count": null,
   "metadata": {},
   "outputs": [],
   "source": [
    "#visdom\n",
    "# Start Visdom service firstly by runing: python3 -m visdom.server\n",
    "# Refer: https://zhuanlan.zhihu.com/p/34692106\n",
    "\n",
    "import visdom\n",
    "import numpy as np\n",
    "import torch as t\n",
    "\n",
    "vis = visdom.Visdom()\n",
    "\n",
    "x = t.arange(2, 25, 0.5)\n",
    "y = t.sin(x)\n",
    "vis.line(X=x, Y=y, win= 'sinx', opts={'title': 'y=sin(x)'})\n",
    "\n",
    "vis.text('Hello World', win='text1')\n",
    "\n",
    "# 这里对 x^2 这个函数的0~9范围进行可视输出\n",
    "for i in range(10):  \n",
    "    vis.line(X=t.FloatTensor([i]), Y=t.FloatTensor([i**2]), win='loss', update='append' if i> 0 else None)\n",
    "    \n",
    "vis.image(t.randn(64, 64).numpy())\n",
    "\n",
    "## 随机可视化一张彩色图片\n",
    "vis.image(t.randn(3, 64, 64).numpy(), win='random2')\n",
    "# 可视化36张随机的彩色图片，每一行6张\n",
    "vis.images(t.randn(36, 3, 64, 64).numpy(), nrow=6, win='random3', opts={'title':'random_imgs'})\n",
    "\n",
    "# append 追加数据\n",
    "for ii in range(0, 10):\n",
    "    # y = x\n",
    "    x = t.Tensor([ii])\n",
    "    y = x\n",
    "    vis.line(X=x, Y=y, win='polynomial', update='append' if ii>0 else None)\n",
    "\n",
    "\n",
    "\n",
    "    "
   ]
  },
  {
   "cell_type": "code",
   "execution_count": null,
   "metadata": {},
   "outputs": [],
   "source": []
  }
 ],
 "metadata": {
  "kernelspec": {
   "display_name": "Python 3",
   "language": "python",
   "name": "python3"
  },
  "language_info": {
   "codemirror_mode": {
    "name": "ipython",
    "version": 3
   },
   "file_extension": ".py",
   "mimetype": "text/x-python",
   "name": "python",
   "nbconvert_exporter": "python",
   "pygments_lexer": "ipython3",
   "version": "3.6.8"
  }
 },
 "nbformat": 4,
 "nbformat_minor": 2
}
