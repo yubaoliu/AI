{
 "cells": [
  {
   "cell_type": "code",
   "execution_count": 16,
   "metadata": {},
   "outputs": [
    {
     "name": "stdout",
     "output_type": "stream",
     "text": [
      "[1 2 3 4 5]\n",
      "[[1 2]\n",
      " [3 4]]\n",
      "Dimension:\n",
      "(5,) (2, 2)\n",
      "Zeros and Ones:\n",
      "[[0. 0. 0.]\n",
      " [0. 0. 0.]] [[1. 1.]\n",
      " [1. 1.]]\n",
      "Update [[1 2]\n",
      " [5 4]]\n",
      "Multiply:  [[2. 2. 2.]\n",
      " [2. 2. 2.]]\n",
      "Divide:  [[0.33333333 0.33333333 0.33333333]\n",
      " [0.33333333 0.33333333 0.33333333]]\n",
      "Add: [[4. 4. 4.]\n",
      " [4. 4. 4.]]\n",
      "Matrix Add:  [[2. 3. 4.]\n",
      " [5. 6. 7.]]\n",
      "Matrix Multiply:  [[1. 2. 3.]\n",
      " [4. 5. 6.]]\n"
     ]
    }
   ],
   "source": [
    "#CURD\n",
    "import numpy as np\n",
    "data1 = np.array([1, 2,3,4,5])\n",
    "print(data1)\n",
    "data2 = np.array( [[1,2], [3, 4]])\n",
    "print(data2)\n",
    "\n",
    "print(\"Dimension:\")\n",
    "print(data1.shape, data2.shape)\n",
    "\n",
    "print(\"Zeros and Ones:\")\n",
    "print(np.zeros([2, 3]), np.ones([2,2]))\n",
    "\n",
    "data2[1,0] = 5\n",
    "print(\"Update\", data2)\n",
    "\n",
    "data3 = np.ones([2, 3])\n",
    "print(\"Multiply: \",data3*2)\n",
    "print(\"Divide: \",data3/3)\n",
    "print(\"Add:\", data3+3)\n",
    "\n",
    "data4 = np.array([[1, 2, 3], [4,5,6] ])\n",
    "print(\"Matrix Add: \",data3 + data4)\n",
    "print(\"Matrix Multiply: \", data3 * data4)"
   ]
  },
  {
   "cell_type": "code",
   "execution_count": null,
   "metadata": {},
   "outputs": [],
   "source": []
  }
 ],
 "metadata": {
  "kernelspec": {
   "display_name": "Python 3",
   "language": "python",
   "name": "python3"
  },
  "language_info": {
   "codemirror_mode": {
    "name": "ipython",
    "version": 3
   },
   "file_extension": ".py",
   "mimetype": "text/x-python",
   "name": "python",
   "nbconvert_exporter": "python",
   "pygments_lexer": "ipython3",
   "version": "3.6.7"
  }
 },
 "nbformat": 4,
 "nbformat_minor": 2
}
