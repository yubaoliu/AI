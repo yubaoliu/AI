{
 "cells": [
  {
   "cell_type": "code",
   "execution_count": 8,
   "metadata": {},
   "outputs": [
    {
     "name": "stdout",
     "output_type": "stream",
     "text": [
      "[[0 0 0]\n",
      " [0 0 0]]\n",
      "zeros: \n",
      " [[0. 0. 0.]\n",
      " [0. 0. 0.]]\n",
      "ones: \n",
      " [[1. 1.]\n",
      " [1. 1.]\n",
      " [1. 1.]]\n",
      "fill: \n",
      " [[15 15 15]\n",
      " [15 15 15]]\n"
     ]
    }
   ],
   "source": [
    "import tensorflow as tf\n",
    "\n",
    "# Define Null Matrix\n",
    "mat0 = tf.constant([ [0, 0, 0], [0, 0, 0] ])\n",
    "mat1 = tf.zeros([2, 3 ] )\n",
    "\n",
    "mat2 = tf.ones([3, 2])\n",
    "\n",
    "mat3 = tf.fill([2, 3], 15)\n",
    "\n",
    "matMul = tf.matmul(data1, data2)\n",
    "matAdd = tf.add(data1, data3)\n",
    "\n",
    "with tf.Session() as sess:\n",
    "    print(sess.run(mat0))\n",
    "    print(\"zeros: \\n\", sess.run(mat1))\n",
    "    print(\"ones: \\n\", sess.run(mat2))\n",
    "    print(\"fill: \\n\", sess.run(mat3))\n",
    "    "
   ]
  },
  {
   "cell_type": "code",
   "execution_count": 15,
   "metadata": {},
   "outputs": [
    {
     "name": "stdout",
     "output_type": "stream",
     "text": [
      "[[0]\n",
      " [0]\n",
      " [0]]\n",
      "[0.        0.2       0.4       0.6       0.8       1.        1.2\n",
      " 1.4       1.6       1.8000001 2.       ]\n",
      "[[ 0.44977832 -0.80614746 -0.84356606]\n",
      " [ 1.864896   -0.85919046 -0.52459526]]\n"
     ]
    }
   ],
   "source": [
    "import tensorflow as tf\n",
    "mat1 = tf.constant([ [2], [3] , [4] ] )\n",
    "mat2 = tf.zeros_like(mat1)\n",
    "mat3 = tf.lin_space(0.0, 2.0, 11)\n",
    "mat4 = tf.random_uniform([2, 3], -1, 2) # Data range [-1, 2], row=2 , Col = 3\n",
    "with tf.Session() as sess:\n",
    "    print(sess.run(mat2))\n",
    "    print(sess.run(mat3))\n",
    "    print(sess.run(mat4))"
   ]
  },
  {
   "cell_type": "code",
   "execution_count": null,
   "metadata": {},
   "outputs": [],
   "source": []
  }
 ],
 "metadata": {
  "kernelspec": {
   "display_name": "Python 3",
   "language": "python",
   "name": "python3"
  },
  "language_info": {
   "codemirror_mode": {
    "name": "ipython",
    "version": 3
   },
   "file_extension": ".py",
   "mimetype": "text/x-python",
   "name": "python",
   "nbconvert_exporter": "python",
   "pygments_lexer": "ipython3",
   "version": "3.6.7"
  }
 },
 "nbformat": 4,
 "nbformat_minor": 2
}
