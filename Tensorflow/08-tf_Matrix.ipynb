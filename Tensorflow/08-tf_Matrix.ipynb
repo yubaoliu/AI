{
 "cells": [
  {
   "cell_type": "code",
   "execution_count": 9,
   "metadata": {},
   "outputs": [
    {
     "name": "stdout",
     "output_type": "stream",
     "text": [
      "(3, 2)\n",
      "Print All data in data4:  [[1 2]\n",
      " [3 4]\n",
      " [5 6]]\n",
      "Print Row 0 in data4:  [1 2]\n",
      "Print Collum 0 in data4: [1 3 5]\n",
      "Print Collum 0, Row 0 in data4: 1\n"
     ]
    }
   ],
   "source": [
    "# Matrix Defination\n",
    "import tensorflow as tf\n",
    "data1 = tf.constant([ [6, 6] ])\n",
    "data2 = tf.constant( [ [2], [2] ])\n",
    "data3 = tf.constant([ [3, 3] ])\n",
    "data4 = tf.constant( [ [1, 2],\n",
    "                     [3, 4],\n",
    "                     [5, 6]] )\n",
    "print(data4.shape)\n",
    "with tf.Session() as sess:\n",
    "    print(\"Print All data in data4: \", sess.run(data4))\n",
    "    print(\"Print Row 0 in data4: \", sess.run(data4[0]))\n",
    "    print(\"Print Collum 0 in data4:\", sess.run(data4[ : , 0]) )\n",
    "    print(\"Print Collum 0, Row 0 in data4:\", sess.run(data4[ 0 , 0]) )"
   ]
  },
  {
   "cell_type": "code",
   "execution_count": 11,
   "metadata": {},
   "outputs": [
    {
     "name": "stdout",
     "output_type": "stream",
     "text": [
      "[[24]]\n",
      "[[9 9]]\n",
      "[array([[24]], dtype=int32), array([[9, 9]], dtype=int32)]\n"
     ]
    }
   ],
   "source": [
    "matMul = tf.matmul(data1, data2)\n",
    "matAdd = tf.add(data1, data3)\n",
    "with tf.Session() as sess:\n",
    "    print(sess.run(matMul))\n",
    "    print(sess.run(matAdd))\n",
    "    print(sess.run([matMul, matAdd]))"
   ]
  },
  {
   "cell_type": "code",
   "execution_count": null,
   "metadata": {},
   "outputs": [],
   "source": []
  }
 ],
 "metadata": {
  "kernelspec": {
   "display_name": "Python 3",
   "language": "python",
   "name": "python3"
  },
  "language_info": {
   "codemirror_mode": {
    "name": "ipython",
    "version": 3
   },
   "file_extension": ".py",
   "mimetype": "text/x-python",
   "name": "python",
   "nbconvert_exporter": "python",
   "pygments_lexer": "ipython3",
   "version": "3.6.7"
  }
 },
 "nbformat": 4,
 "nbformat_minor": 2
}
