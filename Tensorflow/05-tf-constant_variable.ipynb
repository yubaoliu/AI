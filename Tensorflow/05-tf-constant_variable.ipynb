{
 "cells": [
  {
   "cell_type": "code",
   "execution_count": 3,
   "metadata": {},
   "outputs": [
    {
     "name": "stdout",
     "output_type": "stream",
     "text": [
      "Tensor(\"Const_4:0\", shape=(), dtype=float32)\n",
      "<tf.Variable 'var_2:0' shape=() dtype=int32_ref>\n",
      "2.5\n",
      "10\n",
      "3\n"
     ]
    }
   ],
   "source": [
    "# tensor: data\n",
    "# Operation\n",
    "# Graphs\n",
    "import tensorflow as tf\n",
    "\n",
    "data1=tf.constant(2.5)\n",
    "data2=tf.Variable(10, name='var')\n",
    "data3=tf.constant(3, dtype=tf.int32)\n",
    "\n",
    "\n",
    "print(data1)\n",
    "print(data2)\n",
    "\n",
    "sess = tf.Session()\n",
    "init = tf.global_variables_initializer()\n",
    "sess.run(init)\n",
    "\n",
    "print(sess.run(data1))\n",
    "print(sess.run(data2))\n",
    "print(sess.run(data3))\n",
    "\n",
    "sess.close()\n",
    "\n"
   ]
  },
  {
   "cell_type": "code",
   "execution_count": 2,
   "metadata": {},
   "outputs": [
    {
     "name": "stdout",
     "output_type": "stream",
     "text": [
      "Tensor(\"Const_2:0\", shape=(), dtype=float32)\n",
      "<tf.Variable 'var_1:0' shape=() dtype=int32_ref>\n",
      "2.5\n",
      "10\n",
      "3\n"
     ]
    }
   ],
   "source": [
    "# tensor: data\n",
    "# Operation\n",
    "# Graphs\n",
    "import tensorflow as tf\n",
    "\n",
    "data1=tf.constant(2.5)\n",
    "data2=tf.Variable(10, name='var')\n",
    "data3=tf.constant(3, dtype=tf.int32)\n",
    "\n",
    "\n",
    "print(data1)\n",
    "print(data2)\n",
    "\n",
    "sess = tf.Session()\n",
    "init = tf.global_variables_initializer()\n",
    "sess.run(init)\n",
    "\n",
    "# Don:t need to call sess.close() if use 'with expression'\n",
    "with sess:\n",
    "    sess.run(init)\n",
    "    print(sess.run(data1))\n",
    "    print(sess.run(data2))\n",
    "    print(sess.run(data3))\n",
    "\n",
    "\n"
   ]
  },
  {
   "cell_type": "code",
   "execution_count": null,
   "metadata": {},
   "outputs": [],
   "source": []
  }
 ],
 "metadata": {
  "kernelspec": {
   "display_name": "Python 3",
   "language": "python",
   "name": "python3"
  },
  "language_info": {
   "codemirror_mode": {
    "name": "ipython",
    "version": 3
   },
   "file_extension": ".py",
   "mimetype": "text/x-python",
   "name": "python",
   "nbconvert_exporter": "python",
   "pygments_lexer": "ipython3",
   "version": "3.6.8"
  }
 },
 "nbformat": 4,
 "nbformat_minor": 2
}
