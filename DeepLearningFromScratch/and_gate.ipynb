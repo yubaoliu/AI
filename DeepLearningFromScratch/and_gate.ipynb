{
 "cells": [
  {
   "cell_type": "code",
   "execution_count": null,
   "metadata": {},
   "outputs": [],
   "source": [
    "#2.3.1 簡単な実装　\n",
    "def AND_Gate(x1, x2):\n",
    "    w1, w2, theta = 0.5, 0.5, 0.7\n",
    "    tmp = x1*w1 + x2*w2\n",
    "    if tmp <= theta:\n",
    "        return 0\n",
    "    elif tmp > theta:\n",
    "        return 1\n",
    "\n",
    "if __name__ == '__main__':\n",
    "    print(AND_Gate(0, 0))\n",
    "    print(AND_Gate(0, 1))\n",
    "    print(AND_Gate(1, 0))\n",
    "    print(AND_Gate(1, 1))\n"
   ]
  },
  {
   "cell_type": "code",
   "execution_count": 3,
   "metadata": {},
   "outputs": [
    {
     "name": "stdout",
     "output_type": "stream",
     "text": [
      "(0, 0)->0\n",
      "(1, 0)->0\n",
      "(0, 1)->0\n",
      "(1, 1)->1\n"
     ]
    }
   ],
   "source": [
    "#2.3.2 重みとバイアスの導入\n",
    "import numpy as np\n",
    "\n",
    "def AND(x1, x2):\n",
    "    x = np.array([x1,x2])\n",
    "    w = np.array([0.5, 0.5])\n",
    "    b = -0.7 #b = - theta\n",
    "    tmp = np.sum(w*x) + b\n",
    "    if tmp <= 0:\n",
    "        return 0\n",
    "    elif tmp >0:\n",
    "        return 1\n",
    "\n",
    "if __name__ == '__main__':\n",
    "    for xs in [(0,0), (1, 0), (0,1), (1, 1)]:\n",
    "        y = AND(xs[0], xs[1])\n",
    "        print(str(xs) + \"->\" + str(y))\n"
   ]
  },
  {
   "cell_type": "code",
   "execution_count": null,
   "metadata": {},
   "outputs": [],
   "source": []
  }
 ],
 "metadata": {
  "kernelspec": {
   "display_name": "Python 3",
   "language": "python",
   "name": "python3"
  },
  "language_info": {
   "codemirror_mode": {
    "name": "ipython",
    "version": 3
   },
   "file_extension": ".py",
   "mimetype": "text/x-python",
   "name": "python",
   "nbconvert_exporter": "python",
   "pygments_lexer": "ipython3",
   "version": "3.6.7"
  }
 },
 "nbformat": 4,
 "nbformat_minor": 2
}
